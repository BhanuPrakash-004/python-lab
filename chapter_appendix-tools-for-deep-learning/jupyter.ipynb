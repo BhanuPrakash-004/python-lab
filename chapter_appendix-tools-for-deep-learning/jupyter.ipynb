{
  "cells": [
    {
      "cell_type": "code",
      "source": [
        "# Comparison operators\n",
        "a = int(input(\"Enter first number: \"))\n",
        "b = int(input(\"Enter second number: \"))\n",
        "\n",
        "print(\"a == b:\", a == b)\n",
        "print(\"a != b:\", a != b)\n",
        "print(\"a > b:\", a > b)\n",
        "print(\"a < b:\", a < b)\n",
        "print(\"a >= b:\", a >= b)\n",
        "print(\"a <= b:\", a <= b)\n"
      ],
      "metadata": {
        "id": "d2yBJ_cTB8BY"
      },
      "id": "d2yBJ_cTB8BY",
      "execution_count": null,
      "outputs": []
    },
    {
      "cell_type": "code",
      "source": [
        "# Logical & Bitwise operators\n",
        "a = int(input(\"Enter first number: \"))\n",
        "b = int(input(\"Enter second number: \"))\n",
        "\n",
        "print(\"a & b =\", a & b)   # Bitwise AND\n",
        "print(\"a | b =\", a | b)   # Bitwise OR\n",
        "print(\"a ^ b =\", a ^ b)   # Bitwise XOR\n",
        "print(\"a >> 1 =\", a >> 1) # Right shift\n",
        "print(\"a << 1 =\", a << 1) # Left shift\n"
      ],
      "metadata": {
        "id": "xSFRAUsiCGG4"
      },
      "id": "xSFRAUsiCGG4",
      "execution_count": null,
      "outputs": []
    },
    {
      "cell_type": "code",
      "source": [
        "# Swap two numbers\n",
        "a = int(input(\"Enter first number: \"))\n",
        "b = int(input(\"Enter second number: \"))\n",
        "\n",
        "print(\"Before swap: a =\", a, \", b =\", b)\n",
        "a, b = b, a\n",
        "print(\"After swap: a =\", a, \", b =\", b)\n"
      ],
      "metadata": {
        "id": "0wDOAtD_CHWN"
      },
      "id": "0wDOAtD_CHWN",
      "execution_count": null,
      "outputs": []
    },
    {
      "cell_type": "code",
      "source": [
        "# String operations\n",
        "str1 = \"Hello\"\n",
        "str2 = \"World\"\n",
        "\n",
        "print(\"Concatenation:\", str1 + \" \" + str2)\n",
        "print(\"String Multiplication:\", str1 * 3)\n"
      ],
      "metadata": {
        "id": "gEsisxBVCLRi"
      },
      "id": "gEsisxBVCLRi",
      "execution_count": null,
      "outputs": []
    },
    {
      "cell_type": "code",
      "source": [
        "# Convert days to seconds\n",
        "days = int(input(\"Enter number of days: \"))\n",
        "seconds = days * 24 * 60 * 60\n",
        "print(days, \"days =\", seconds, \"seconds\")\n"
      ],
      "metadata": {
        "id": "Pk2TkRrYCOSA"
      },
      "id": "Pk2TkRrYCOSA",
      "execution_count": null,
      "outputs": []
    },
    {
      "cell_type": "code",
      "source": [
        "# Gross salary calculation\n",
        "basic = float(input(\"Enter Basic Salary: \"))\n",
        "da = 0.6 * basic\n",
        "hra = 0.2 * basic\n",
        "ta = 0.05 * basic\n",
        "gross = basic + da + hra + ta\n",
        "\n",
        "print(\"Gross Salary =\", gross)\n"
      ],
      "metadata": {
        "id": "V8MVcovvCU97"
      },
      "id": "V8MVcovvCU97",
      "execution_count": null,
      "outputs": []
    },
    {
      "cell_type": "code",
      "source": [
        "# Simple and Compound Interest\n",
        "p = float(input(\"Enter Principal: \"))\n",
        "r = float(input(\"Enter Rate of Interest: \"))\n",
        "t = float(input(\"Enter Time in years: \"))\n",
        "\n",
        "# Simple Interest\n",
        "si = (p * r * t) / 100\n",
        "\n",
        "# Compound Interest\n",
        "n = int(input(\"Enter number of times interest is compounded per year: \"))\n",
        "ci = p * (1 + (r / (100 * n))) ** (n * t) - p\n",
        "\n",
        "print(\"Simple Interest =\", si)\n",
        "print(\"Compound Interest =\", ci)\n"
      ],
      "metadata": {
        "id": "3eRO-eGsCW2-"
      },
      "id": "3eRO-eGsCW2-",
      "execution_count": null,
      "outputs": []
    },
    {
      "cell_type": "code",
      "source": [
        "# Solve quadratic equation ax^2 + bx + c = 0\n",
        "import math\n",
        "\n",
        "a = float(input(\"Enter a: \"))\n",
        "b = float(input(\"Enter b: \"))\n",
        "c = float(input(\"Enter c: \"))\n",
        "\n",
        "d = b**2 - 4*a*c  # discriminant\n",
        "\n",
        "if d > 0:\n",
        "    root1 = (-b + math.sqrt(d)) / (2*a)\n",
        "    root2 = (-b - math.sqrt(d)) / (2*a)\n",
        "    print(\"Two Real Roots:\", root1, \"and\", root2)\n",
        "elif d == 0:\n",
        "    root = -b / (2*a)\n",
        "    print(\"One Real Root:\", root)\n",
        "else:\n",
        "    print(\"No Real Roots, complex roots exist.\")\n"
      ],
      "metadata": {
        "id": "GTA8MvcHCZBE"
      },
      "id": "GTA8MvcHCZBE",
      "execution_count": null,
      "outputs": []
    },
    {
      "cell_type": "code",
      "source": [
        "# Print message using format()\n",
        "print('Capital cities: India {}, US {}, UK {}, China {}'.format('New Delhi', 'Washington', 'London', 'Beijing'))\n"
      ],
      "metadata": {
        "id": "0JpLAAF9Capx"
      },
      "id": "0JpLAAF9Capx",
      "execution_count": null,
      "outputs": []
    }
  ],
  "metadata": {
    "kernelspec": {
      "display_name": "Python 3",
      "name": "python3"
    },
    "language_info": {
      "name": "python"
    },
    "required_libs": [],
    "colab": {
      "provenance": []
    }
  },
  "nbformat": 4,
  "nbformat_minor": 5
}