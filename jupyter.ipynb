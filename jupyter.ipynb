{
  "cells": [
    {
      "cell_type": "code",
      "source": [
        "# Comparison operators\n",
        "a = int(input(\"Enter first number: \"))\n",
        "b = int(input(\"Enter second number: \"))\n",
        "\n",
        "print(\"a == b:\", a == b)\n",
        "print(\"a != b:\", a != b)\n",
        "print(\"a > b:\", a > b)\n",
        "print(\"a < b:\", a < b)\n",
        "print(\"a >= b:\", a >= b)\n",
        "print(\"a <= b:\", a <= b)\n"
      ],
      "metadata": {
        "colab": {
          "base_uri": "https://localhost:8080/"
        },
        "id": "d2yBJ_cTB8BY",
        "outputId": "770e9408-c187-4c72-b1ef-3ed4fb8c8ddb"
      },
      "id": "d2yBJ_cTB8BY",
      "execution_count": 2,
      "outputs": [
        {
          "output_type": "stream",
          "name": "stdout",
          "text": [
            "Enter first number: 1\n",
            "Enter second number: 2\n",
            "a == b: False\n",
            "a != b: True\n",
            "a > b: False\n",
            "a < b: True\n",
            "a >= b: False\n",
            "a <= b: True\n"
          ]
        }
      ]
    },
    {
      "cell_type": "code",
      "source": [
        "# Logical & Bitwise operators\n",
        "a = int(input(\"Enter first number: \"))\n",
        "b = int(input(\"Enter second number: \"))\n",
        "\n",
        "print(\"a & b =\", a & b)   # Bitwise AND\n",
        "print(\"a | b =\", a | b)   # Bitwise OR\n",
        "print(\"a ^ b =\", a ^ b)   # Bitwise XOR\n",
        "print(\"a >> 1 =\", a >> 1) # Right shift\n",
        "print(\"a << 1 =\", a << 1) # Left shift\n"
      ],
      "metadata": {
        "id": "xSFRAUsiCGG4"
      },
      "id": "xSFRAUsiCGG4",
      "execution_count": null,
      "outputs": []
    },
    {
      "cell_type": "code",
      "source": [
        "# Swap two numbers\n",
        "a = int(input(\"Enter first number: \"))\n",
        "b = int(input(\"Enter second number: \"))\n",
        "\n",
        "print(\"Before swap: a =\", a, \", b =\", b)\n",
        "a, b = b, a\n",
        "print(\"After swap: a =\", a, \", b =\", b)\n"
      ],
      "metadata": {
        "id": "0wDOAtD_CHWN"
      },
      "id": "0wDOAtD_CHWN",
      "execution_count": null,
      "outputs": []
    },
    {
      "cell_type": "code",
      "source": [
        "# String operations\n",
        "str1 = \"Hello\"\n",
        "str2 = \"World\"\n",
        "\n",
        "print(\"Concatenation:\", str1 + \" \" + str2)\n",
        "print(\"String Multiplication:\", str1 * 3)\n"
      ],
      "metadata": {
        "id": "gEsisxBVCLRi"
      },
      "id": "gEsisxBVCLRi",
      "execution_count": null,
      "outputs": []
    },
    {
      "cell_type": "code",
      "source": [
        "# Convert days to seconds\n",
        "days = int(input(\"Enter number of days: \"))\n",
        "seconds = days * 24 * 60 * 60\n",
        "print(days, \"days =\", seconds, \"seconds\")\n"
      ],
      "metadata": {
        "id": "Pk2TkRrYCOSA"
      },
      "id": "Pk2TkRrYCOSA",
      "execution_count": null,
      "outputs": []
    },
    {
      "cell_type": "code",
      "source": [
        "# Gross salary calculation\n",
        "basic = float(input(\"Enter Basic Salary: \"))\n",
        "da = 0.6 * basic\n",
        "hra = 0.2 * basic\n",
        "ta = 0.05 * basic\n",
        "gross = basic + da + hra + ta\n",
        "\n",
        "print(\"Gross Salary =\", gross)\n"
      ],
      "metadata": {
        "id": "V8MVcovvCU97"
      },
      "id": "V8MVcovvCU97",
      "execution_count": null,
      "outputs": []
    },
    {
      "cell_type": "code",
      "source": [
        "# Simple and Compound Interest\n",
        "p = float(input(\"Enter Principal: \"))\n",
        "r = float(input(\"Enter Rate of Interest: \"))\n",
        "t = float(input(\"Enter Time in years: \"))\n",
        "\n",
        "# Simple Interest\n",
        "si = (p * r * t) / 100\n",
        "\n",
        "# Compound Interest\n",
        "n = int(input(\"Enter number of times interest is compounded per year: \"))\n",
        "ci = p * (1 + (r / (100 * n))) ** (n * t) - p\n",
        "\n",
        "print(\"Simple Interest =\", si)\n",
        "print(\"Compound Interest =\", ci)\n"
      ],
      "metadata": {
        "id": "3eRO-eGsCW2-"
      },
      "id": "3eRO-eGsCW2-",
      "execution_count": null,
      "outputs": []
    },
    {
      "cell_type": "code",
      "source": [
        "# Solve quadratic equation ax^2 + bx + c = 0\n",
        "import math\n",
        "\n",
        "a = float(input(\"Enter a: \"))\n",
        "b = float(input(\"Enter b: \"))\n",
        "c = float(input(\"Enter c: \"))\n",
        "\n",
        "d = b**2 - 4*a*c  # discriminant\n",
        "\n",
        "if d > 0:\n",
        "    root1 = (-b + math.sqrt(d)) / (2*a)\n",
        "    root2 = (-b - math.sqrt(d)) / (2*a)\n",
        "    print(\"Two Real Roots:\", root1, \"and\", root2)\n",
        "elif d == 0:\n",
        "    root = -b / (2*a)\n",
        "    print(\"One Real Root:\", root)\n",
        "else:\n",
        "    print(\"No Real Roots, complex roots exist.\")\n"
      ],
      "metadata": {
        "id": "GTA8MvcHCZBE"
      },
      "id": "GTA8MvcHCZBE",
      "execution_count": null,
      "outputs": []
    },
    {
      "cell_type": "code",
      "source": [
        "# Print message using format()\n",
        "print('Capital cities: India {}, US {}, UK {}, China {}'.format('New Delhi', 'Washington', 'London', 'Beijing'))\n"
      ],
      "metadata": {
        "colab": {
          "base_uri": "https://localhost:8080/"
        },
        "id": "0JpLAAF9Capx",
        "outputId": "37f7ebac-c1f3-445d-f9de-cd05728ad281"
      },
      "id": "0JpLAAF9Capx",
      "execution_count": 3,
      "outputs": [
        {
          "output_type": "stream",
          "name": "stdout",
          "text": [
            "Capital cities: India New Delhi, US Washington, UK London, China Beijing\n"
          ]
        }
      ]
    },
    {
      "cell_type": "markdown",
      "source": [
        "Lab-2"
      ],
      "metadata": {
        "id": "cSlbdnACDUIJ"
      },
      "id": "cSlbdnACDUIJ"
    },
    {
      "cell_type": "code",
      "source": [
        "# Even or Odd\n",
        "num = int(input(\"Enter a number: \"))\n",
        "\n",
        "if num % 2 == 0:\n",
        "    print(num, \"is Even\")\n",
        "else:\n",
        "    print(num, \"is Odd\")\n"
      ],
      "metadata": {
        "id": "Oopqk0HlDWrv"
      },
      "id": "Oopqk0HlDWrv",
      "execution_count": null,
      "outputs": []
    },
    {
      "cell_type": "code",
      "source": [
        "# ASCII character check\n",
        "ch = input(\"Enter a single character: \")\n",
        "\n",
        "if 'A' <= ch <= 'Z':\n",
        "    print(\"Uppercase Letter\")\n",
        "elif 'a' <= ch <= 'z':\n",
        "    print(\"Lowercase Letter\")\n",
        "elif '0' <= ch <= '9':\n",
        "    print(\"Digit\")\n",
        "else:\n",
        "    print(\"Special Character\")\n"
      ],
      "metadata": {
        "id": "gXj5rxVCD2VV"
      },
      "id": "gXj5rxVCD2VV",
      "execution_count": null,
      "outputs": []
    },
    {
      "cell_type": "code",
      "source": [
        "# Largest of three numbers\n",
        "a = int(input(\"Enter first number: \"))\n",
        "b = int(input(\"Enter second number: \"))\n",
        "c = int(input(\"Enter third number: \"))\n",
        "\n",
        "if a >= b and a >= c:\n",
        "    print(a, \"is the largest\")\n",
        "elif b >= a and b >= c:\n",
        "    print(b, \"is the largest\")\n",
        "else:\n",
        "    print(c, \"is the largest\")\n"
      ],
      "metadata": {
        "id": "nNyqvCiOD8_G"
      },
      "id": "nNyqvCiOD8_G",
      "execution_count": null,
      "outputs": []
    },
    {
      "cell_type": "code",
      "source": [
        "# Leap year check\n",
        "year = int(input(\"Enter a year: \"))\n",
        "\n",
        "if (year % 400 == 0) or (year % 4 == 0 and year % 100 != 0):\n",
        "    print(year, \"is a Leap Year\")\n",
        "else:\n",
        "    print(year, \"is Not a Leap Year\")\n"
      ],
      "metadata": {
        "id": "BK2AZG_9ECt0"
      },
      "id": "BK2AZG_9ECt0",
      "execution_count": null,
      "outputs": []
    },
    {
      "cell_type": "code",
      "source": [
        "# Reverse and Palindrome\n",
        "num = int(input(\"Enter a number: \"))\n",
        "temp = num\n",
        "rev = 0\n",
        "\n",
        "while num > 0:\n",
        "    digit = num % 10\n",
        "    rev = rev * 10 + digit\n",
        "    num //= 10\n",
        "\n",
        "print(\"Reversed Number:\", rev)\n",
        "\n",
        "if temp == rev:\n",
        "    print(\"It is a Palindrome\")\n",
        "else:\n",
        "    print(\"Not a Palindrome\")\n"
      ],
      "metadata": {
        "id": "RgRTotj8EFxK"
      },
      "id": "RgRTotj8EFxK",
      "execution_count": null,
      "outputs": []
    },
    {
      "cell_type": "code",
      "source": [
        "# GCD using while loop\n",
        "a = int(input(\"Enter first number: \"))\n",
        "b = int(input(\"Enter second number: \"))\n",
        "\n",
        "while b != 0:\n",
        "    a, b = b, a % b\n",
        "\n",
        "print(\"GCD is\", a)\n"
      ],
      "metadata": {
        "id": "kZvr7sJ8EPNi"
      },
      "id": "kZvr7sJ8EPNi",
      "execution_count": null,
      "outputs": []
    },
    {
      "cell_type": "code",
      "source": [
        "# While with else\n",
        "i = 1\n",
        "while i <= 5:\n",
        "    print(i)\n",
        "    i += 1\n",
        "else:\n",
        "    print(\"Loop completed successfully!\")\n"
      ],
      "metadata": {
        "id": "dL6K5qtMESyW"
      },
      "id": "dL6K5qtMESyW",
      "execution_count": null,
      "outputs": []
    },
    {
      "cell_type": "code",
      "source": [
        "# Reverse sequence using for loop\n",
        "n = int(input(\"Enter a number: \"))\n",
        "for i in range(n, 0, -1):\n",
        "    print(i, end=' ')\n"
      ],
      "metadata": {
        "colab": {
          "base_uri": "https://localhost:8080/"
        },
        "id": "7153aXJxEcHs",
        "outputId": "67d5a14e-1c06-4df3-e95e-476affaad332"
      },
      "id": "7153aXJxEcHs",
      "execution_count": 4,
      "outputs": [
        {
          "output_type": "stream",
          "name": "stdout",
          "text": [
            "Enter a number: 432\n",
            "432 431 430 429 428 427 426 425 424 423 422 421 420 419 418 417 416 415 414 413 412 411 410 409 408 407 406 405 404 403 402 401 400 399 398 397 396 395 394 393 392 391 390 389 388 387 386 385 384 383 382 381 380 379 378 377 376 375 374 373 372 371 370 369 368 367 366 365 364 363 362 361 360 359 358 357 356 355 354 353 352 351 350 349 348 347 346 345 344 343 342 341 340 339 338 337 336 335 334 333 332 331 330 329 328 327 326 325 324 323 322 321 320 319 318 317 316 315 314 313 312 311 310 309 308 307 306 305 304 303 302 301 300 299 298 297 296 295 294 293 292 291 290 289 288 287 286 285 284 283 282 281 280 279 278 277 276 275 274 273 272 271 270 269 268 267 266 265 264 263 262 261 260 259 258 257 256 255 254 253 252 251 250 249 248 247 246 245 244 243 242 241 240 239 238 237 236 235 234 233 232 231 230 229 228 227 226 225 224 223 222 221 220 219 218 217 216 215 214 213 212 211 210 209 208 207 206 205 204 203 202 201 200 199 198 197 196 195 194 193 192 191 190 189 188 187 186 185 184 183 182 181 180 179 178 177 176 175 174 173 172 171 170 169 168 167 166 165 164 163 162 161 160 159 158 157 156 155 154 153 152 151 150 149 148 147 146 145 144 143 142 141 140 139 138 137 136 135 134 133 132 131 130 129 128 127 126 125 124 123 122 121 120 119 118 117 116 115 114 113 112 111 110 109 108 107 106 105 104 103 102 101 100 99 98 97 96 95 94 93 92 91 90 89 88 87 86 85 84 83 82 81 80 79 78 77 76 75 74 73 72 71 70 69 68 67 66 65 64 63 62 61 60 59 58 57 56 55 54 53 52 51 50 49 48 47 46 45 44 43 42 41 40 39 38 37 36 35 34 33 32 31 30 29 28 27 26 25 24 23 22 21 20 19 18 17 16 15 14 13 12 11 10 9 8 7 6 5 4 3 2 1 "
          ]
        }
      ]
    },
    {
      "cell_type": "code",
      "source": [
        "# Pyramid pattern\n",
        "rows = int(input(\"Enter number of rows: \"))\n",
        "\n",
        "for i in range(1, rows + 1):\n",
        "    print(\" \" * (rows - i) + \"*\" * (2 * i - 1))\n"
      ],
      "metadata": {
        "colab": {
          "base_uri": "https://localhost:8080/"
        },
        "id": "hoUYfwb6Etdt",
        "outputId": "e831988f-c9b2-4ed5-b63b-a04929eac36d"
      },
      "id": "hoUYfwb6Etdt",
      "execution_count": 6,
      "outputs": [
        {
          "output_type": "stream",
          "name": "stdout",
          "text": [
            "Enter number of rows: 5\n",
            "    *\n",
            "   ***\n",
            "  *****\n",
            " *******\n",
            "*********\n"
          ]
        }
      ]
    },
    {
      "cell_type": "code",
      "source": [
        "# Fibonacci series\n",
        "n = int(input(\"Enter number of terms: \"))\n",
        "a, b = 0, 1\n",
        "\n",
        "print(\"Fibonacci Series:\", end=' ')\n",
        "for _ in range(n):\n",
        "    print(a, end=' ')\n",
        "    a, b = b, a + b\n"
      ],
      "metadata": {
        "colab": {
          "base_uri": "https://localhost:8080/"
        },
        "id": "IJarX8UdEvWw",
        "outputId": "3b450532-1a80-4656-fd79-19c042672494"
      },
      "id": "IJarX8UdEvWw",
      "execution_count": 5,
      "outputs": [
        {
          "output_type": "stream",
          "name": "stdout",
          "text": [
            "Enter number of terms: 5\n",
            "Fibonacci Series: 0 1 1 2 3 "
          ]
        }
      ]
    }
  ],
  "metadata": {
    "kernelspec": {
      "display_name": "Python 3",
      "name": "python3"
    },
    "language_info": {
      "name": "python"
    },
    "required_libs": [],
    "colab": {
      "provenance": []
    }
  },
  "nbformat": 4,
  "nbformat_minor": 5
}